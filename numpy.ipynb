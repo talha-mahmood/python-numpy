{
  "nbformat": 4,
  "nbformat_minor": 0,
  "metadata": {
    "colab": {
      "provenance": []
    },
    "kernelspec": {
      "name": "python3",
      "display_name": "Python 3"
    },
    "language_info": {
      "name": "python"
    }
  },
  "cells": [
    {
      "cell_type": "markdown",
      "source": [
        " Array Creation\n",
        " Create a 1D NumPy array with elements ranging from 0 to 9.\n",
        " Create a 3x3 NumPy array filled with the value 7."
      ],
      "metadata": {
        "id": "evsRpZHYkfG_"
      }
    },
    {
      "cell_type": "code",
      "source": [
        "import numpy as np\n",
        "\n",
        "array_1d = np.arange(10)\n",
        "print(\"1D Array:\", array_1d)\n",
        "array_3x3_seven = np.full((3, 3), 7)\n",
        "print(\"3x3 Array filled with 7:\\n\", array_3x3_seven)\n"
      ],
      "metadata": {
        "colab": {
          "base_uri": "https://localhost:8080/"
        },
        "id": "itbolckDkfOf",
        "outputId": "813f967c-a275-46ec-a79c-5651d42c3c9d"
      },
      "execution_count": 32,
      "outputs": [
        {
          "output_type": "stream",
          "name": "stdout",
          "text": [
            "1D Array: [0 1 2 3 4 5 6 7 8 9]\n",
            "3x3 Array filled with 7:\n",
            " [[7 7 7]\n",
            " [7 7 7]\n",
            " [7 7 7]]\n"
          ]
        }
      ]
    },
    {
      "cell_type": "markdown",
      "source": [
        " Array Operations\n",
        " Create two 2D arrays of shape (3, 3) and perform element-wise addition and\n",
        "multiplication.\n",
        " Create a 4x4 array of random integers between 10 and 50. Find the maximum and\n",
        "minimum values in the array."
      ],
      "metadata": {
        "id": "4xpMxN8rkfVI"
      }
    },
    {
      "cell_type": "code",
      "source": [
        "array_a = np.array([[1, 2, 3], [4, 5, 6], [7, 8, 9]])\n",
        "array_b = np.array([[9, 8, 7], [6, 5, 4], [3, 2, 1]])\n",
        "\n",
        "addition_result = array_a + array_b\n",
        "multiplication_result = array_a * array_b\n",
        "\n",
        "print(\"Element-wise Addition:\\n\", addition_result)\n",
        "print(\"Element-wise Multiplication:\\n\", multiplication_result)\n",
        "\n",
        "array_random = np.random.randint(10, 51, (4, 4))\n",
        "max_value = np.max(array_random)\n",
        "min_value = np.min(array_random)\n",
        "\n",
        "print(\"4x4 Array of random integers:\\n\", array_random)\n",
        "print(\"Maximum value:\", max_value)\n",
        "print(\"Minimum value:\", min_value)\n"
      ],
      "metadata": {
        "colab": {
          "base_uri": "https://localhost:8080/"
        },
        "id": "0WiFs-Pokfaw",
        "outputId": "0d48e225-efb5-4fe9-d197-7c12ed4c2899"
      },
      "execution_count": 33,
      "outputs": [
        {
          "output_type": "stream",
          "name": "stdout",
          "text": [
            "Element-wise Addition:\n",
            " [[10 10 10]\n",
            " [10 10 10]\n",
            " [10 10 10]]\n",
            "Element-wise Multiplication:\n",
            " [[ 9 16 21]\n",
            " [24 25 24]\n",
            " [21 16  9]]\n",
            "4x4 Array of random integers:\n",
            " [[27 16 14 26]\n",
            " [26 16 28 43]\n",
            " [11 44 50 33]\n",
            " [22 28 21 22]]\n",
            "Maximum value: 50\n",
            "Minimum value: 11\n"
          ]
        }
      ]
    },
    {
      "cell_type": "markdown",
      "source": [
        " Indexing and Slicing\n",
        " Create a 5x5 array of sequential numbers starting from 1. Extract the middle 3x3 sub-\n",
        "array.\n",
        " Given a 2D array of shape (4, 4), set all elements in the first row to 0"
      ],
      "metadata": {
        "id": "uBYqOXhckfgY"
      }
    },
    {
      "cell_type": "code",
      "source": [
        "array_sequential = np.arange(1, 26).reshape(5, 5)\n",
        "middle_sub_array = array_sequential[1:4, 1:4]\n",
        "\n",
        "print(\"5x5 Array of sequential numbers:\\n\", array_sequential)\n",
        "print(\"Middle 3x3 Sub-array:\\n\", middle_sub_array)\n",
        "array_4x4 = np.random.randint(1, 10, (4, 4))\n",
        "array_4x4[0, :] = 0\n",
        "\n",
        "print(\"2D Array with first row set to 0:\\n\", array_4x4)\n"
      ],
      "metadata": {
        "colab": {
          "base_uri": "https://localhost:8080/"
        },
        "id": "2iN7oxe7kflo",
        "outputId": "6ef497ed-eeab-498e-f3ae-00d80b33eda0"
      },
      "execution_count": 35,
      "outputs": [
        {
          "output_type": "stream",
          "name": "stdout",
          "text": [
            "5x5 Array of sequential numbers:\n",
            " [[ 1  2  3  4  5]\n",
            " [ 6  7  8  9 10]\n",
            " [11 12 13 14 15]\n",
            " [16 17 18 19 20]\n",
            " [21 22 23 24 25]]\n",
            "Middle 3x3 Sub-array:\n",
            " [[ 7  8  9]\n",
            " [12 13 14]\n",
            " [17 18 19]]\n",
            "2D Array with first row set to 0:\n",
            " [[0 0 0 0]\n",
            " [6 8 3 4]\n",
            " [5 7 9 7]\n",
            " [3 2 2 5]]\n"
          ]
        }
      ]
    },
    {
      "cell_type": "markdown",
      "source": [
        " Mathematical Operations\n",
        " Compute the mean, median, and standard deviation of a randomly generated array of\n",
        "1000 elements.\n",
        " Perform a dot product of two 1D arrays of length 4."
      ],
      "metadata": {
        "id": "GmRYsi-IkhBv"
      }
    },
    {
      "cell_type": "code",
      "source": [
        "random_array = np.random.random(1000)\n",
        "mean_value = np.mean(random_array)\n",
        "median_value = np.median(random_array)\n",
        "std_deviation = np.std(random_array)\n",
        "\n",
        "print(\"Mean:\", mean_value)\n",
        "print(\"Median:\", median_value)\n",
        "print(\"Standard Deviation:\", std_deviation)\n",
        "array_x = np.array([1, 2, 3, 4])\n",
        "array_y = np.array([4, 3, 2, 1])\n",
        "\n",
        "dot_product = np.dot(array_x, array_y)\n",
        "print(\"Dot Product:\", dot_product)\n"
      ],
      "metadata": {
        "colab": {
          "base_uri": "https://localhost:8080/"
        },
        "id": "ox1fXhGbkhN3",
        "outputId": "9be89fa5-795c-4780-8817-b0464e4e3993"
      },
      "execution_count": 36,
      "outputs": [
        {
          "output_type": "stream",
          "name": "stdout",
          "text": [
            "Mean: 0.5054871592944462\n",
            "Median: 0.5086035435759784\n",
            "Standard Deviation: 0.29221694769011464\n",
            "Dot Product: 20\n"
          ]
        }
      ]
    },
    {
      "cell_type": "markdown",
      "source": [
        " Broadcasting\n",
        " Create a 5x5 array of zeros and add a 1D array of shape (5,) to each row of the 2D array\n",
        "using broadcasting.\n",
        " Create a 3x3 array and subtract a scalar value from it."
      ],
      "metadata": {
        "id": "i5zeS25ckhVX"
      }
    },
    {
      "cell_type": "code",
      "source": [
        "zeros_array = np.zeros((5, 5))\n",
        "array_1d_to_add = np.array([1, 2, 3, 4, 5])\n",
        "\n",
        "broadcast_result = zeros_array + array_1d_to_add\n",
        "\n",
        "print(\"5x5 Array after broadcasting:\\n\", broadcast_result)\n",
        "\n",
        "array_3x3 = np.array([[10, 20, 30], [40, 50, 60], [70, 80, 90]])\n",
        "scalar_value = 5\n",
        "\n",
        "subtracted_result = array_3x3 - scalar_value\n",
        "\n",
        "print(\"3x3 Array after subtracting scalar value:\\n\", subtracted_result)\n",
        "\n"
      ],
      "metadata": {
        "colab": {
          "base_uri": "https://localhost:8080/"
        },
        "id": "NEh-Vj5jkhb6",
        "outputId": "c4561247-a20f-4e1d-bb5b-7008707eb4f8"
      },
      "execution_count": 41,
      "outputs": [
        {
          "output_type": "stream",
          "name": "stdout",
          "text": [
            "5x5 Array after broadcasting:\n",
            " [[1. 2. 3. 4. 5.]\n",
            " [1. 2. 3. 4. 5.]\n",
            " [1. 2. 3. 4. 5.]\n",
            " [1. 2. 3. 4. 5.]\n",
            " [1. 2. 3. 4. 5.]]\n",
            "3x3 Array after subtracting scalar value:\n",
            " [[ 5 15 25]\n",
            " [35 45 55]\n",
            " [65 75 85]]\n"
          ]
        }
      ]
    },
    {
      "cell_type": "markdown",
      "source": [
        " Aggregations\n",
        " Calculate the sum of all elements in a 6x6 array with random values between 1 and 10.\n",
        " Find the index of the maximum value in a 1D array of 50 random values."
      ],
      "metadata": {
        "id": "GcLbXYTHkhjv"
      }
    },
    {
      "cell_type": "code",
      "source": [
        "import numpy as np\n",
        "\n",
        "array_6x6 = np.random.randint(1, 11, (6, 6))\n",
        "sum_elements = np.sum(array_6x6)\n",
        "\n",
        "print(\"6x6 Array with random values:\\n\", array_6x6)\n",
        "print(\"Sum of all elements:\", sum_elements)\n",
        "array_1d_50 = np.random.random(50)\n",
        "max_index = np.argmax(array_1d_50)\n",
        "\n",
        "print(\"1D Array of 50 random values:\\n\", array_1d_50)\n",
        "print(\"Index of the maximum value:\", max_index)\n"
      ],
      "metadata": {
        "colab": {
          "base_uri": "https://localhost:8080/"
        },
        "id": "xtv2MKB4khsv",
        "outputId": "8ac37ad7-951f-42a9-f766-43a2f4988862"
      },
      "execution_count": 42,
      "outputs": [
        {
          "output_type": "stream",
          "name": "stdout",
          "text": [
            "6x6 Array with random values:\n",
            " [[ 7  5  7  7  9 10]\n",
            " [ 1  3  8  2  9  2]\n",
            " [ 4  3  4  6  2  8]\n",
            " [ 7  9  8  5 10  5]\n",
            " [ 1  9  2  2  5  2]\n",
            " [ 3  5  3  4  1  7]]\n",
            "Sum of all elements: 185\n",
            "1D Array of 50 random values:\n",
            " [0.38288335 0.53216847 0.89227868 0.45567074 0.75248701 0.3756363\n",
            " 0.49078022 0.44472654 0.77257552 0.07140169 0.53865323 0.98183053\n",
            " 0.90472526 0.98242403 0.08732461 0.21153028 0.49562625 0.5810315\n",
            " 0.20007634 0.0567118  0.12473628 0.38976376 0.76877156 0.74358557\n",
            " 0.52700809 0.86757021 0.20591924 0.39674029 0.9498095  0.03508589\n",
            " 0.14066798 0.11538998 0.41428793 0.57290325 0.97309504 0.7415482\n",
            " 0.73566175 0.23471562 0.78561264 0.63854064 0.95595956 0.36603885\n",
            " 0.44910277 0.94710956 0.54259743 0.91337727 0.86017301 0.66319765\n",
            " 0.25264262 0.77227461]\n",
            "Index of the maximum value: 13\n"
          ]
        }
      ]
    },
    {
      "cell_type": "markdown",
      "source": [
        " Reshaping and Flattening\n",
        " Reshape a 1D array of 12 elements into a 3x4 array.\n",
        " Flatten a 4x4 array into a 1D array."
      ],
      "metadata": {
        "id": "lxccDCgIkh0J"
      }
    },
    {
      "cell_type": "code",
      "source": [
        "array_1d_12 = np.arange(12)\n",
        "array_3x4 = array_1d_12.reshape(3, 4)\n",
        "\n",
        "print(\"1D Array of 12 elements:\", array_1d_12)\n",
        "print(\"Reshaped to 3x4 Array:\\n\", array_3x4)\n",
        "array_4x4 = np.random.randint(1, 20, (4, 4))\n",
        "flattened_array = array_4x4.flatten()\n",
        "\n",
        "print(\"4x4 Array:\\n\", array_4x4)\n",
        "print(\"Flattened to 1D Array:\", flattened_array)\n"
      ],
      "metadata": {
        "colab": {
          "base_uri": "https://localhost:8080/"
        },
        "id": "maWOD_clkh7I",
        "outputId": "3f7b9a71-8dc6-446f-fce5-634006b2e863"
      },
      "execution_count": 43,
      "outputs": [
        {
          "output_type": "stream",
          "name": "stdout",
          "text": [
            "1D Array of 12 elements: [ 0  1  2  3  4  5  6  7  8  9 10 11]\n",
            "Reshaped to 3x4 Array:\n",
            " [[ 0  1  2  3]\n",
            " [ 4  5  6  7]\n",
            " [ 8  9 10 11]]\n",
            "4x4 Array:\n",
            " [[19  6 18  7]\n",
            " [ 3 17  6  7]\n",
            " [ 1 18  6  4]\n",
            " [ 6 11 15 18]]\n",
            "Flattened to 1D Array: [19  6 18  7  3 17  6  7  1 18  6  4  6 11 15 18]\n"
          ]
        }
      ]
    },
    {
      "cell_type": "markdown",
      "source": [
        " Linear Algebra\n",
        " Solve a system of linear equations represented by a 2x2 matrix and a 2x1 vector.\n",
        " Compute the inverse of a 3x3 matrix (if it is invertible)."
      ],
      "metadata": {
        "id": "sE3pIGhUkiCo"
      }
    },
    {
      "cell_type": "code",
      "source": [
        "coefficients = np.array([[2, 3], [5, 1]])\n",
        "constants = np.array([8, 7])\n",
        "\n",
        "solution = np.linalg.solve(coefficients, constants)\n",
        "\n",
        "print(\"Solution for the system of equations:\", solution)\n",
        "\n",
        "matrix_3x3 = np.array([[1, 2, 3], [0, 1, 4], [5, 6, 0]])\n",
        "\n",
        "# Check if the matrix is invertible by checking if the determinant is not zero\n",
        "if np.linalg.det(matrix_3x3) != 0:\n",
        "    inverse_matrix = np.linalg.inv(matrix_3x3)\n",
        "    print(\"Inverse of the 3x3 Matrix:\\n\", inverse_matrix)\n",
        "else:\n",
        "    print(\"The matrix is not invertible.\")\n",
        "\n"
      ],
      "metadata": {
        "colab": {
          "base_uri": "https://localhost:8080/"
        },
        "id": "nFYCPHp0kiIw",
        "outputId": "936101bb-b7fc-46e6-d7ad-c604daacdd8b"
      },
      "execution_count": 44,
      "outputs": [
        {
          "output_type": "stream",
          "name": "stdout",
          "text": [
            "Solution for the system of equations: [1. 2.]\n",
            "Inverse of the 3x3 Matrix:\n",
            " [[-24.  18.   5.]\n",
            " [ 20. -15.  -4.]\n",
            " [ -5.   4.   1.]]\n"
          ]
        }
      ]
    },
    {
      "cell_type": "markdown",
      "source": [
        " Statistical Analysis\n",
        "\n",
        " Create a 100x100 array of random numbers and calculate the correlation coefficient\n",
        "matrix.\n",
        " Compute the cumulative sum of a 1D array of 20 elements."
      ],
      "metadata": {
        "id": "X3UCFVihrViW"
      }
    },
    {
      "cell_type": "code",
      "source": [
        "array_100x100 = np.random.random((100, 100))\n",
        "correlation_matrix = np.corrcoef(array_100x100)\n",
        "\n",
        "print(\"Correlation Coefficient Matrix:\\n\", correlation_matrix)\n",
        "array_20 = np.arange(20)\n",
        "cumulative_sum = np.cumsum(array_20)\n",
        "\n",
        "print(\"1D Array of 20 elements:\", array_20)\n",
        "print(\"Cumulative Sum:\", cumulative_sum)\n"
      ],
      "metadata": {
        "colab": {
          "base_uri": "https://localhost:8080/"
        },
        "id": "1MNlCILerVpB",
        "outputId": "6dfa1c0e-c755-4629-ed85-a7ef5bd6f9ff"
      },
      "execution_count": 48,
      "outputs": [
        {
          "output_type": "stream",
          "name": "stdout",
          "text": [
            "Correlation Coefficient Matrix:\n",
            " [[ 1.         -0.05806753 -0.03831468 ...  0.05953777  0.16603374\n",
            "   0.09513458]\n",
            " [-0.05806753  1.         -0.06708271 ...  0.06409675  0.17250847\n",
            "  -0.03190772]\n",
            " [-0.03831468 -0.06708271  1.         ...  0.07787748  0.08678444\n",
            "   0.07097143]\n",
            " ...\n",
            " [ 0.05953777  0.06409675  0.07787748 ...  1.          0.26605195\n",
            "   0.07264119]\n",
            " [ 0.16603374  0.17250847  0.08678444 ...  0.26605195  1.\n",
            "  -0.03623988]\n",
            " [ 0.09513458 -0.03190772  0.07097143 ...  0.07264119 -0.03623988\n",
            "   1.        ]]\n",
            "1D Array of 20 elements: [ 0  1  2  3  4  5  6  7  8  9 10 11 12 13 14 15 16 17 18 19]\n",
            "Cumulative Sum: [  0   1   3   6  10  15  21  28  36  45  55  66  78  91 105 120 136 153\n",
            " 171 190]\n"
          ]
        }
      ]
    },
    {
      "cell_type": "markdown",
      "source": [
        " Advanced Indexing\n",
        " Create a 4x4 matrix and use boolean indexing to set all elements greater than 5 to -1.\n",
        " Generate a 2D array of shape (5, 5) and use advanced indexing to extract specific rows\n",
        "and columns based on conditions.\n",
        "\n"
      ],
      "metadata": {
        "id": "2e0HGUzerVvp"
      }
    },
    {
      "cell_type": "code",
      "source": [
        "matrix_4x4 = np.random.randint(1, 10, (4, 4))\n",
        "matrix_4x4[matrix_4x4 > 5] = -1\n",
        "\n",
        "print(\"4x4 Matrix after setting elements > 5 to -1:\\n\", matrix_4x4)\n",
        "\n",
        "array_5x5 = np.random.randint(1, 10, (5, 5))\n",
        "condition = array_5x5 > 4\n",
        "extracted_elements = array_5x5[condition]\n",
        "\n",
        "print(\"Original 5x5 Array:\\n\", array_5x5)\n",
        "print(\"Elements greater than 4:\\n\", extracted_elements)\n"
      ],
      "metadata": {
        "colab": {
          "base_uri": "https://localhost:8080/"
        },
        "id": "CpvTkGrHrV1W",
        "outputId": "a9d3ef26-5407-46be-c415-a5fa4c50375e"
      },
      "execution_count": 51,
      "outputs": [
        {
          "output_type": "stream",
          "name": "stdout",
          "text": [
            "4x4 Matrix after setting elements > 5 to -1:\n",
            " [[ 3 -1  3 -1]\n",
            " [-1 -1  3 -1]\n",
            " [ 5  2 -1  2]\n",
            " [ 3 -1  3  3]]\n",
            "Original 5x5 Array:\n",
            " [[5 9 2 6 3]\n",
            " [7 3 8 1 8]\n",
            " [2 4 4 8 1]\n",
            " [9 6 7 1 6]\n",
            " [6 5 6 2 8]]\n",
            "Elements greater than 4:\n",
            " [5 9 6 7 8 8 8 9 6 7 6 6 5 6 8]\n"
          ]
        }
      ]
    }
  ]
}